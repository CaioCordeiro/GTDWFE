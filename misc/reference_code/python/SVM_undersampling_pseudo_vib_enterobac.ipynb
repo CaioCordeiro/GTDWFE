{
 "cells": [
  {
   "cell_type": "code",
   "execution_count": null,
   "source": [],
   "outputs": [],
   "metadata": {}
  },
  {
   "cell_type": "code",
   "execution_count": 2,
   "source": [
    "import pandas as pd\r\n",
    "import numpy as np\r\n",
    "from scipy.spatial.distance import squareform\r\n",
    "from scipy.spatial.distance import pdist, jaccard"
   ],
   "outputs": [],
   "metadata": {}
  },
  {
   "cell_type": "code",
   "execution_count": 3,
   "source": [
    "# Number of selected features\r\n",
    "Th = 3\r\n",
    "# Coalition size\r\n",
    "p = 3\r\n",
    "#weight\r\n",
    "w = [[1] for i in range(621)]\r\n",
    "sum_RR = [[0] for i in range(621)]\r\n",
    "lf = [[0] for i in range(621)]\r\n",
    "flag = [[0] for i in range(621)]\r\n",
    "Banzhaf_power = [[0] for i in range(621)]\r\n",
    "list_z = []\r\n",
    "col_added = []\r\n",
    "t=1\r\n",
    "CMI=0\r\n",
    "MI=0"
   ],
   "outputs": [],
   "metadata": {}
  },
  {
   "cell_type": "code",
   "execution_count": 8,
   "source": [
    "df = pd.read_csv(\"../../../src/data/Ac_Sa_Ca_Kl_Ec/bla_all.csv\")"
   ],
   "outputs": [],
   "metadata": {}
  },
  {
   "cell_type": "code",
   "execution_count": 9,
   "source": [
    "def discretize(df):\r\n",
    "    for i in df.columns:\r\n",
    "        if i != \"Feature\":\r\n",
    "            df[i] = pd.qcut(df[i], q=5,  labels=False, precision=0, duplicates='drop')\r\n",
    "    return df"
   ],
   "outputs": [],
   "metadata": {}
  },
  {
   "cell_type": "code",
   "execution_count": 10,
   "source": [
    "dat = discretize(df.copy())"
   ],
   "outputs": [],
   "metadata": {}
  },
  {
   "cell_type": "code",
   "execution_count": 11,
   "source": [
    "columns_arr = df.columns\r\n",
    "output = columns_arr[622]\r\n",
    "for i in range(1,621):\r\n",
    "    summation = 0\r\n",
    "    corre = abs(np.corrcoef(df[columns_arr[i]], df[output]))\r\n",
    "    for j in range(1,621):\r\n",
    "        df_copy = df.copy()\r\n",
    "        temp_df = pd.concat([df_copy[columns_arr[i]], df_copy[columns_arr[j]]], axis=1)\r\n",
    "        tanimoto_coeff = 1 - pdist(temp_df, 'jaccard')\r\n",
    "        summation = summation+tanimoto_coeff\r\n",
    "    tanimoto_coeff_avg = summation/620\r\n",
    "    sum_RR[i-1]= corre+tanimoto_coeff_avg\r\n"
   ],
   "outputs": [
    {
     "output_type": "error",
     "ename": "ValueError",
     "evalue": "operands could not be broadcast together with shapes (2,2) (5671,) ",
     "traceback": [
      "\u001b[1;31m---------------------------------------------------------------------------\u001b[0m",
      "\u001b[1;31mValueError\u001b[0m                                Traceback (most recent call last)",
      "\u001b[1;32m~\\AppData\\Local\\Temp/ipykernel_11936/3432025370.py\u001b[0m in \u001b[0;36m<module>\u001b[1;34m\u001b[0m\n\u001b[0;32m     10\u001b[0m         \u001b[0msummation\u001b[0m \u001b[1;33m=\u001b[0m \u001b[0msummation\u001b[0m\u001b[1;33m+\u001b[0m\u001b[0mtanimoto_coeff\u001b[0m\u001b[1;33m\u001b[0m\u001b[1;33m\u001b[0m\u001b[0m\n\u001b[0;32m     11\u001b[0m     \u001b[0mtanimoto_coeff_avg\u001b[0m \u001b[1;33m=\u001b[0m \u001b[0msummation\u001b[0m\u001b[1;33m/\u001b[0m\u001b[1;36m620\u001b[0m\u001b[1;33m\u001b[0m\u001b[1;33m\u001b[0m\u001b[0m\n\u001b[1;32m---> 12\u001b[1;33m     \u001b[0msum_RR\u001b[0m\u001b[1;33m[\u001b[0m\u001b[0mi\u001b[0m\u001b[1;33m-\u001b[0m\u001b[1;36m1\u001b[0m\u001b[1;33m]\u001b[0m\u001b[1;33m=\u001b[0m \u001b[0mcorre\u001b[0m\u001b[1;33m+\u001b[0m\u001b[0mtanimoto_coeff_avg\u001b[0m\u001b[1;33m\u001b[0m\u001b[1;33m\u001b[0m\u001b[0m\n\u001b[0m",
      "\u001b[1;31mValueError\u001b[0m: operands could not be broadcast together with shapes (2,2) (5671,) "
     ]
    }
   ],
   "metadata": {
    "tags": [
     "outputPrepend"
    ]
   }
  },
  {
   "cell_type": "code",
   "execution_count": null,
   "source": [],
   "outputs": [],
   "metadata": {}
  }
 ],
 "metadata": {
  "interpreter": {
   "hash": "33245f943a08e770773579a832d29284b103f4f52ecabefe7ebd4715f12a932d"
  },
  "kernelspec": {
   "display_name": "Python 3.9.5 64-bit",
   "name": "python3"
  },
  "language_info": {
   "codemirror_mode": {
    "name": "ipython",
    "version": 3
   },
   "file_extension": ".py",
   "mimetype": "text/x-python",
   "name": "python",
   "nbconvert_exporter": "python",
   "pygments_lexer": "ipython3",
   "version": "3.9.5"
  },
  "metadata": {
   "interpreter": {
    "hash": "916dbcbb3f70747c44a77c7bcd40155683ae19c65e1c03b4aa3499c5328201f1"
   }
  },
  "orig_nbformat": 2
 },
 "nbformat": 4,
 "nbformat_minor": 2
}